{
 "cells": [
  {
   "cell_type": "code",
   "execution_count": 1,
   "id": "b5c44006",
   "metadata": {},
   "outputs": [],
   "source": [
    "import pandas as pd\n",
    "import numpy as np\n",
    "import torch\n",
    "import torch.nn as nn\n",
    "from torch.utils.data import DataLoader, Dataset"
   ]
  },
  {
   "cell_type": "code",
   "execution_count": null,
   "id": "4789a2ed",
   "metadata": {},
   "outputs": [
    {
     "name": "stdout",
     "output_type": "stream",
     "text": [
      "Epoch 1/20, Loss: 0.5934\n",
      "Epoch 2/20, Loss: 0.0818\n",
      "Epoch 3/20, Loss: 0.0387\n",
      "Epoch 4/20, Loss: 0.0273\n",
      "Epoch 5/20, Loss: 0.0222\n",
      "Epoch 6/20, Loss: 0.0183\n",
      "Epoch 7/20, Loss: 0.0144\n",
      "Epoch 8/20, Loss: 0.0118\n",
      "Epoch 9/20, Loss: 0.0109\n",
      "Epoch 10/20, Loss: 0.0081\n",
      "Epoch 11/20, Loss: 0.0070\n",
      "Epoch 12/20, Loss: 0.0080\n",
      "Epoch 13/20, Loss: 0.0056\n",
      "Epoch 14/20, Loss: 0.0042\n",
      "Epoch 15/20, Loss: 0.0039\n",
      "Epoch 16/20, Loss: 0.0035\n",
      "Epoch 17/20, Loss: 0.0027\n",
      "Epoch 18/20, Loss: 0.0026\n",
      "Epoch 19/20, Loss: 0.0021\n",
      "Epoch 20/20, Loss: 0.0019\n",
      "Predicted Distraction Level: 0.9873\n"
     ]
    },
    {
     "name": "stderr",
     "output_type": "stream",
     "text": [
      "C:\\Users\\KIIT01\\AppData\\Roaming\\Python\\Python37\\site-packages\\ipykernel_launcher.py:62: UserWarning: To copy construct from a tensor, it is recommended to use sourceTensor.clone().detach() or sourceTensor.clone().detach().requires_grad_(True), rather than torch.tensor(sourceTensor).\n"
     ]
    }
   ],
   "source": [
    "# Load the distraction CSV file\n",
    "df_distraction = pd.read_csv('memory_match_distraction_data_200_samples.csv')\n",
    "\n",
    "# Custom Dataset for sequence data\n",
    "class DistractionDataset(Dataset):\n",
    "    def __init__(self, dataframe, sequence_length=10):\n",
    "        self.sequence_length = sequence_length\n",
    "        self.features = dataframe[['reaction_time (sec)', 'off_task_event', 'eye_fixation_loss', 'is_match', 'move_number']].values.astype(np.float32)\n",
    "        self.targets = dataframe['distraction_level'].values.astype(np.float32)\n",
    "\n",
    "    def __len__(self):\n",
    "        return len(self.features) - self.sequence_length\n",
    "\n",
    "    def __getitem__(self, idx):\n",
    "        x = self.features[idx:idx + self.sequence_length]\n",
    "        y = self.targets[idx + self.sequence_length - 1]\n",
    "        return torch.tensor(x), torch.tensor(y)\n",
    "\n",
    "# GRU Model definition\n",
    "class DistractionGRU(nn.Module):\n",
    "    def __init__(self, input_size, hidden_size, output_size):\n",
    "        super(DistractionGRU, self).__init__()\n",
    "        self.gru = nn.GRU(input_size, hidden_size, batch_first=True)\n",
    "        self.fc = nn.Linear(hidden_size, output_size)\n",
    "\n",
    "    def forward(self, x):\n",
    "        out, _ = self.gru(x)\n",
    "        out = self.fc(out[:, -1, :])\n",
    "        return out\n",
    "\n",
    "# Hyperparameters\n",
    "INPUT_SIZE = 5  \n",
    "HIDDEN_SIZE = 32\n",
    "OUTPUT_SIZE = 1\n",
    "EPOCHS = 20\n",
    "BATCH_SIZE = 4\n",
    "LEARNING_RATE = 0.001\n",
    "\n",
    "# Prepare dataset and dataloader\n",
    "dataset = DistractionDataset(df_distraction)\n",
    "dataloader = DataLoader(dataset, batch_size=BATCH_SIZE, shuffle=True)\n",
    "\n",
    "# Initialize model, loss, optimizer\n",
    "model = DistractionGRU(INPUT_SIZE, HIDDEN_SIZE, OUTPUT_SIZE)\n",
    "criterion = nn.MSELoss()\n",
    "optimizer = torch.optim.Adam(model.parameters(), lr=LEARNING_RATE)\n",
    "\n",
    "# Training loop\n",
    "for epoch in range(EPOCHS):\n",
    "    total_loss = 0\n",
    "    for X_batch, y_batch in dataloader:\n",
    "        optimizer.zero_grad()\n",
    "        outputs = model(X_batch)\n",
    "        loss = criterion(outputs.squeeze(), y_batch)\n",
    "        loss.backward()\n",
    "        optimizer.step()\n",
    "        total_loss += loss.item()\n",
    "    print(f\"Epoch {epoch+1}/{EPOCHS}, Loss: {total_loss/len(dataloader):.4f}\")\n",
    "\n",
    "# Example inference\n",
    "with torch.no_grad():\n",
    "    sample_seq = torch.tensor(dataset[0][0]).unsqueeze(0)  # batch size 1\n",
    "    predicted_distraction = model(sample_seq)\n",
    "    print(f\"Predicted Distraction Level: {predicted_distraction.item():.4f}\")"
   ]
  }
 ],
 "metadata": {
  "kernelspec": {
   "display_name": "Python 3",
   "language": "python",
   "name": "python3"
  },
  "language_info": {
   "codemirror_mode": {
    "name": "ipython",
    "version": 3
   },
   "file_extension": ".py",
   "mimetype": "text/x-python",
   "name": "python",
   "nbconvert_exporter": "python",
   "pygments_lexer": "ipython3",
   "version": "3.7.9"
  }
 },
 "nbformat": 4,
 "nbformat_minor": 5
}
